{
 "cells": [
  {
   "cell_type": "code",
   "execution_count": 3,
   "metadata": {},
   "outputs": [],
   "source": [
    "from sklearn.datasets import load_digits\n",
    "digits = load_digits()"
   ]
  },
  {
   "cell_type": "code",
   "execution_count": 4,
   "metadata": {},
   "outputs": [],
   "source": [
    "size = round(digits.data.shape[0]*0.75)\n",
    "X_train, y_train = digits.data[:size], digits.target[:size]\n",
    "X_test, y_test = digits.data[size:], digits.target[size:]"
   ]
  },
  {
   "cell_type": "code",
   "execution_count": 22,
   "metadata": {},
   "outputs": [],
   "source": [
    "def OneNearestNeighbor(x_train, x_test, y_train):\n",
    "    res = []\n",
    "    for idx_test, obj_test in enumerate(x_test):\n",
    "        pairs = []\n",
    "        for idx_train, obj_train in enumerate(x_train):\n",
    "            dist = sum((x_test[idx_test]-x_train[idx_train])**2)\n",
    "            pairs.append((dist, y_train[idx_train]))\n",
    "        #print(pairs)\n",
    "        pairs.sort(key = lambda x: (x[0], x[1]))\n",
    "        res.append(pairs[0][1])\n",
    "    return res\n",
    "\n",
    "def write_answer_1(res):\n",
    "    with open('answer1.txt','w') as fout:\n",
    "        fout.write(str(res))"
   ]
  },
  {
   "cell_type": "code",
   "execution_count": 23,
   "metadata": {},
   "outputs": [],
   "source": [
    "from sklearn.metrics import accuracy_score\n",
    "\n",
    "y_preds = OneNearestNeighbor(X_train, X_test, y_train)"
   ]
  },
  {
   "cell_type": "code",
   "execution_count": 24,
   "metadata": {},
   "outputs": [],
   "source": [
    "write_answer_1(1-accuracy_score(y_test, y_preds))"
   ]
  },
  {
   "cell_type": "code",
   "execution_count": 25,
   "metadata": {},
   "outputs": [],
   "source": [
    "def write_answer_2(res):\n",
    "    with open('answer2.txt','w') as fout:\n",
    "        fout.write(str(res))\n"
   ]
  },
  {
   "cell_type": "code",
   "execution_count": 26,
   "metadata": {},
   "outputs": [],
   "source": [
    "from sklearn.ensemble import RandomForestClassifier\n",
    "\n",
    "rf = RandomForestClassifier(n_estimators=1000)\n",
    "rf.fit(X_train, y_train)\n",
    "y_preds = rf.predict(X_test)\n",
    "write_answer_2(1-accuracy_score(y_test, y_preds))"
   ]
  },
  {
   "cell_type": "code",
   "execution_count": null,
   "metadata": {},
   "outputs": [],
   "source": []
  }
 ],
 "metadata": {
  "kernelspec": {
   "display_name": "Python 3",
   "language": "python",
   "name": "python3"
  },
  "language_info": {
   "codemirror_mode": {
    "name": "ipython",
    "version": 3
   },
   "file_extension": ".py",
   "mimetype": "text/x-python",
   "name": "python",
   "nbconvert_exporter": "python",
   "pygments_lexer": "ipython3",
   "version": "3.7.6"
  }
 },
 "nbformat": 4,
 "nbformat_minor": 4
}
